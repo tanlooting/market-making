{
 "cells": [
  {
   "cell_type": "code",
   "execution_count": 1,
   "id": "1d767433-0748-4a5e-beba-c4eda9ed7f19",
   "metadata": {},
   "outputs": [],
   "source": [
    "import pandas as pd;\n",
    "import requests;\n",
    "from tqdm import tqdm;\n",
    "from datetime import datetime as dt, timedelta;"
   ]
  },
  {
   "cell_type": "markdown",
   "id": "6bcae832-2206-435a-aa45-55180d34fd10",
   "metadata": {},
   "source": [
    "## Binance Futures\n",
    "\n",
    "https://binance-docs.github.io/apidocs/futures/en/"
   ]
  },
  {
   "cell_type": "code",
   "execution_count": null,
   "id": "4e0067c1-63cf-486a-9b5d-da7817ace62d",
   "metadata": {},
   "outputs": [],
   "source": [
    "binance_futures_base_url = \"https://fapi.binance.com\";\n",
    "binance_futures_agg_trades = \"/fapi/v1/aggTrades\";\n",
    "\n",
    "ts_24h_ago = int((dt.now() - timedelta(days=1)).timestamp() * 1_000);\n",
    "\n",
    "symbol = \"BTCUSDT\";\n",
    "\n",
    "r = requests.get(f\"{binance_futures_base_url}{binance_futures_agg_trades}?symbol={symbol}&startTime={ts_24h_ago}&limit=1000\").json()\n",
    "\n",
    "start_id = r[-1]['a'] + 1\n",
    "\n",
    "df = pd.DataFrame(r)\n",
    "\n",
    "for i in tqdm(range(100)): # replace range with how many trades you want /1000\n",
    "    r = requests.get(f\"{binance_futures_base_url}{binance_futures_agg_trades}?symbol={symbol}&fromId={start_id}&limit=1000\").json()\n",
    "    start_id = r[-1]['a'] + 1\n",
    "    df = pd.concat([df, pd.DataFrame(r)])\n",
    "    \n",
    "    if len(r) < 1000:\n",
    "        break\n",
    "    \n",
    "df.columns = ['tradeId', 'px', 'qty', 'firstId', 'lastId', 'timestamp', 'buyerMaker']\n",
    "df.to_parquet('Data/Binance/Futures/BTCUSDT_trades.parquet', index=False)"
   ]
  },
  {
   "cell_type": "markdown",
   "id": "e93ac5b0-106e-4c11-a08f-6cf61c256670",
   "metadata": {},
   "source": [
    "## Binance Spot\n",
    "\n",
    "https://binance-docs.github.io/apidocs/spot/en/"
   ]
  },
  {
   "cell_type": "code",
   "execution_count": null,
   "id": "caf3ccd7-1639-4e0a-b1d8-c23ea07d56f4",
   "metadata": {},
   "outputs": [],
   "source": [
    "binance_spot_base_url = \"https://api.binance.com\";\n",
    "binance_spot_agg_trades = \"/api/v3/aggTrades\";\n",
    "\n",
    "ts_24h_ago = int((dt.now() - timedelta(days=1)).timestamp() * 1_000);\n",
    "\n",
    "symbol = \"BTCUSDT\";\n",
    "\n",
    "r = requests.get(f\"{binance_spot_base_url}{binance_spot_agg_trades}?symbol={symbol}&startTime={ts_24h_ago}&limit=1000\").json()\n",
    "\n",
    "start_id = r[-1]['a'] + 1\n",
    "\n",
    "df = pd.DataFrame(r)\n",
    "\n",
    "for i in tqdm(range(100)): # replace range with how many trades you want /1000\n",
    "    r = requests.get(f\"{binance_spot_base_url}{binance_spot_agg_trades}?symbol={symbol}&fromId={start_id}&limit=1000\").json()\n",
    "    start_id = r[-1]['a'] + 1\n",
    "    df = pd.concat([df, pd.DataFrame(r)])\n",
    "    \n",
    "    if len(r) < 1000:\n",
    "        break\n",
    "    \n",
    "df.columns = ['tradeId', 'px', 'qty', 'firstId', 'lastId', 'timestamp', 'buyerMaker', 'bestMatch']\n",
    "df.to_parquet('Data/Binance/Spot/BTCUSDT_trades.parquet', index=False)"
   ]
  },
  {
   "cell_type": "markdown",
   "id": "9b139ca6-139a-4f5f-a648-6bfcda9aae75",
   "metadata": {},
   "source": [
    "## Bybit Futures\n",
    "\n",
    "https://www.bybit.com/derivatives/en/history-data"
   ]
  },
  {
   "cell_type": "code",
   "execution_count": null,
   "id": "87178c1f-8649-4e80-95bd-d3e5d275f8b1",
   "metadata": {},
   "outputs": [],
   "source": []
  },
  {
   "cell_type": "code",
   "execution_count": null,
   "id": "399dc05e-e4a7-4d3b-a154-a53869730e03",
   "metadata": {},
   "outputs": [],
   "source": []
  },
  {
   "cell_type": "code",
   "execution_count": null,
   "id": "a3d7b7a6-b27d-4ad3-83de-5c1d614e4955",
   "metadata": {},
   "outputs": [],
   "source": []
  }
 ],
 "metadata": {
  "kernelspec": {
   "display_name": "Python 3 (ipykernel)",
   "language": "python",
   "name": "python3"
  },
  "language_info": {
   "codemirror_mode": {
    "name": "ipython",
    "version": 3
   },
   "file_extension": ".py",
   "mimetype": "text/x-python",
   "name": "python",
   "nbconvert_exporter": "python",
   "pygments_lexer": "ipython3",
   "version": "3.11.5"
  }
 },
 "nbformat": 4,
 "nbformat_minor": 5
}
